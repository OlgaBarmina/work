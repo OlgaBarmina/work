{
 "cells": [
  {
   "cell_type": "code",
   "execution_count": 1,
   "id": "950a3f24",
   "metadata": {},
   "outputs": [],
   "source": [
    "import string\n",
    "import random"
   ]
  },
  {
   "cell_type": "code",
   "execution_count": 2,
   "id": "f33d51d7",
   "metadata": {},
   "outputs": [],
   "source": [
    "def f1(text):\n",
    "    return ' '.join(hex(ord(i))[2:] for i in text)"
   ]
  },
  {
   "cell_type": "code",
   "execution_count": 3,
   "id": "eb7ed532",
   "metadata": {},
   "outputs": [],
   "source": [
    "def f2(size):\n",
    "    return ' '.join(random.choice(string.ascii_letters+string.digits) for _ in range(size))"
   ]
  },
  {
   "cell_type": "code",
   "execution_count": 4,
   "id": "645d6878",
   "metadata": {},
   "outputs": [],
   "source": [
    "def f3(text1, text2):\n",
    "    t1 = [ord(i) for i in text1]\n",
    "    t2 = [ord(i) for i in text2]\n",
    "    return ''.join(chr(a^b) for a,b in zip(t1, t2))"
   ]
  },
  {
   "cell_type": "code",
   "execution_count": 5,
   "id": "67823127",
   "metadata": {},
   "outputs": [
    {
     "data": {
      "text/plain": [
       "'i W P V 1 n o k 7 f p e u J Z r 4 r l 6'"
      ]
     },
     "execution_count": 5,
     "metadata": {},
     "output_type": "execute_result"
    }
   ],
   "source": [
    "p1 = \"НаВашисходящийот1204\"\n",
    "p2 = \"ВСеверныйфилиалБанка\"\n",
    "\n",
    "key = f2(len(p1))\n",
    "key"
   ]
  },
  {
   "cell_type": "code",
   "execution_count": 6,
   "id": "2e539c34",
   "metadata": {},
   "outputs": [
    {
     "data": {
      "text/plain": [
       "'69 20 57 20 50 20 56 20 31 20 6e 20 6f 20 6b 20 37 20 66 20 70 20 65 20 75 20 4a 20 5a 20 72 20 34 20 72 20 6c 20 36'"
      ]
     },
     "execution_count": 6,
     "metadata": {},
     "output_type": "execute_result"
    }
   ],
   "source": [
    "hex_key = f1(key)\n",
    "hex_key"
   ]
  },
  {
   "cell_type": "code",
   "execution_count": 8,
   "id": "6c421cfc",
   "metadata": {},
   "outputs": [
    {
     "data": {
      "text/plain": [
       "('ѴАхАИИЗѥЏДСѩїЙѕѢ\\x06\\x12V\\x14', 'ѻЁѢВѥѠѫѫЈѤіЛїАѐбЇНќА')"
      ]
     },
     "execution_count": 8,
     "metadata": {},
     "output_type": "execute_result"
    }
   ],
   "source": [
    "ecr1 = f3(p1, key)\n",
    "ecr2 = f3(p2, key)\n",
    "ecr1, ecr2"
   ]
  },
  {
   "cell_type": "code",
   "execution_count": 9,
   "id": "6eb3a033",
   "metadata": {},
   "outputs": [
    {
     "data": {
      "text/plain": [
       "('НаВашисходящийот1204', 'ВСеверныйфилиалБанка')"
      ]
     },
     "execution_count": 9,
     "metadata": {},
     "output_type": "execute_result"
    }
   ],
   "source": [
    "decr = f3(ecr1, ecr1)\n",
    "f3(decr, p1), f3(decr, p2)"
   ]
  },
  {
   "cell_type": "code",
   "execution_count": null,
   "id": "377b82c3",
   "metadata": {},
   "outputs": [],
   "source": []
  }
 ],
 "metadata": {
  "kernelspec": {
   "display_name": "Python 3 (ipykernel)",
   "language": "python",
   "name": "python3"
  },
  "language_info": {
   "codemirror_mode": {
    "name": "ipython",
    "version": 3
   },
   "file_extension": ".py",
   "mimetype": "text/x-python",
   "name": "python",
   "nbconvert_exporter": "python",
   "pygments_lexer": "ipython3",
   "version": "3.9.12"
  }
 },
 "nbformat": 4,
 "nbformat_minor": 5
}
