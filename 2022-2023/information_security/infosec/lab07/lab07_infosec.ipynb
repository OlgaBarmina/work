{
 "cells": [
  {
   "cell_type": "code",
   "execution_count": 18,
   "id": "26de6ac8",
   "metadata": {},
   "outputs": [],
   "source": [
    "import string\n",
    "import random"
   ]
  },
  {
   "cell_type": "code",
   "execution_count": 19,
   "id": "173af6c9",
   "metadata": {},
   "outputs": [],
   "source": [
    "def f1(text):\n",
    "    return ' '.join(hex(ord(i))[2:] for i in text)"
   ]
  },
  {
   "cell_type": "code",
   "execution_count": 20,
   "id": "76e2d369",
   "metadata": {},
   "outputs": [],
   "source": [
    "def f2(size):\n",
    "    return ' '.join(random.choice(string.ascii_letters+string.digits) for _ in range(size))"
   ]
  },
  {
   "cell_type": "code",
   "execution_count": 21,
   "id": "e5895e7e",
   "metadata": {},
   "outputs": [],
   "source": [
    "def f3(text, key):\n",
    "    return ' '.join(chr(a^b) for a,b in zip(text, key))"
   ]
  },
  {
   "cell_type": "code",
   "execution_count": 22,
   "id": "3a50a18c",
   "metadata": {},
   "outputs": [],
   "source": [
    "def f4(text, enc):\n",
    "    return ' '.join(chr(a^b) for a,b in zip(text, enc))"
   ]
  },
  {
   "cell_type": "code",
   "execution_count": 23,
   "id": "e69c8dba",
   "metadata": {},
   "outputs": [
    {
     "name": "stdout",
     "output_type": "stream",
     "text": [
      "j L O P b S q m u L X c c 1 h M E C W r M b\n",
      "6a 20 4c 20 4f 20 50 20 62 20 53 20 71 20 6d 20 75 20 4c 20 58 20 63 20 63 20 31 20 68 20 4d 20 45 20 43 20 57 20 72 20 4d 20 62\n"
     ]
    }
   ],
   "source": [
    "msg = \"С Новым Годом, друзья!\"\n",
    "key = f2(len(msg))\n",
    "hex_key = f1(key)\n",
    "print(key)\n",
    "print(hex_key)"
   ]
  },
  {
   "cell_type": "code",
   "execution_count": 24,
   "id": "bf95c639",
   "metadata": {},
   "outputs": [
    {
     "data": {
      "text/plain": [
       "'44b 20 0 20 451 20 41e 20 47d 20 46b 20 46c 20 0 20 471 20 41e 20 467 20 41e 20 44d 20 c 20 4d 20 414 20 435 20 463 20 47b 20 46c 20 417 20 1'"
      ]
     },
     "execution_count": 24,
     "metadata": {},
     "output_type": "execute_result"
    }
   ],
   "source": [
    "enc = f3([ord(i) for i in msg], [ord(i) for i in key])\n",
    "hex_enc = f1(enc)\n",
    "hex_enc"
   ]
  },
  {
   "cell_type": "code",
   "execution_count": 38,
   "id": "09ff67fd",
   "metadata": {},
   "outputs": [
    {
     "name": "stdout",
     "output_type": "stream",
     "text": [
      "С Новым Годом, друзья!\n"
     ]
    }
   ],
   "source": [
    "decr = f3([ord(i) for i in enc], [ord(i) for i in key])\n",
    "print(decr)"
   ]
  },
  {
   "cell_type": "code",
   "execution_count": 42,
   "id": "5ce9cbc2",
   "metadata": {},
   "outputs": [
    {
     "name": "stdout",
     "output_type": "stream",
     "text": [
      "С Новым Годом, друзья!\n"
     ]
    }
   ],
   "source": [
    "key2 = f4([ord(i) for i in msg], [ord(i) for i in enc])\n",
    "decr2 = f3([ord(i) for i in enc], [ord(i) for i in key2])\n",
    "print(decr2)"
   ]
  },
  {
   "cell_type": "code",
   "execution_count": null,
   "id": "2a823933",
   "metadata": {},
   "outputs": [],
   "source": []
  }
 ],
 "metadata": {
  "kernelspec": {
   "display_name": "Python 3 (ipykernel)",
   "language": "python",
   "name": "python3"
  },
  "language_info": {
   "codemirror_mode": {
    "name": "ipython",
    "version": 3
   },
   "file_extension": ".py",
   "mimetype": "text/x-python",
   "name": "python",
   "nbconvert_exporter": "python",
   "pygments_lexer": "ipython3",
   "version": "3.9.12"
  }
 },
 "nbformat": 4,
 "nbformat_minor": 5
}
